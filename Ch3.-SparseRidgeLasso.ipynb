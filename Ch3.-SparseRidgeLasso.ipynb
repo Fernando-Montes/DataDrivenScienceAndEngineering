{
 "cells": [
  {
   "cell_type": "code",
   "execution_count": 36,
   "id": "652b631a",
   "metadata": {},
   "outputs": [],
   "source": [
    "# import libraries\n",
    "\n",
    "import numpy as np\n",
    "from sklearn.linear_model import RidgeCV\n",
    "from sklearn.linear_model import LassoCV"
   ]
  },
  {
   "cell_type": "code",
   "execution_count": 55,
   "id": "0db275bf",
   "metadata": {},
   "outputs": [],
   "source": [
    "x = np.random.rand(100, 10)  # matrix of observations\n",
    "w = np.asarray([0, 0, 1, 0, 0, 0, -1, 0, 0, 0])   # weights\n",
    "y = np.matmul(x, w.T) + 1*np.random.rand(1, 100)  # Observations including noise"
   ]
  },
  {
   "cell_type": "code",
   "execution_count": 56,
   "id": "034781a7",
   "metadata": {},
   "outputs": [
    {
     "name": "stdout",
     "output_type": "stream",
     "text": [
      "Ridge MSE = 0.624 \n"
     ]
    },
    {
     "data": {
      "text/plain": [
       "array([[ 0.05418298,  0.02730452,  0.60307676, -0.10413967,  0.07426894,\n",
       "         0.01602152, -0.91016013, -0.01016585,  0.13343471, -0.0525387 ]])"
      ]
     },
     "execution_count": 56,
     "metadata": {},
     "output_type": "execute_result"
    }
   ],
   "source": [
    "# Fit using l2 (ridge)\n",
    "\n",
    "lRidgeCV = RidgeCV(alphas = 10**np.linspace(-2,6, 100))\n",
    "lRidgeCV.fit(x,y.T)\n",
    "print(\"Ridge MSE = {0:.3f} \".format(lRidgeCV.score(x,y.T)))\n",
    "lRidgeCV.coef_"
   ]
  },
  {
   "cell_type": "code",
   "execution_count": 57,
   "id": "7ac859ce",
   "metadata": {},
   "outputs": [
    {
     "name": "stdout",
     "output_type": "stream",
     "text": [
      "Lasso MSE = 0.606 \n"
     ]
    },
    {
     "data": {
      "text/plain": [
       "array([ 0.        ,  0.        ,  0.54670718, -0.03617606,  0.        ,\n",
       "        0.        , -0.90336295, -0.        ,  0.03531506, -0.        ])"
      ]
     },
     "execution_count": 57,
     "metadata": {},
     "output_type": "execute_result"
    }
   ],
   "source": [
    "# Fit using l1 (lasso)\n",
    "\n",
    "llassoCV = LassoCV(cv=5, random_state=0, alphas = 10**np.linspace(-2,6, 100))\n",
    "llassoCV.fit(x, np.ravel(y))\n",
    "print(\"Lasso MSE = {0:.3f} \".format(llassoCV.score(x,np.ravel(y))))\n",
    "llassoCV.coef_"
   ]
  },
  {
   "cell_type": "code",
   "execution_count": null,
   "id": "a3446a95",
   "metadata": {},
   "outputs": [],
   "source": []
  }
 ],
 "metadata": {
  "kernelspec": {
   "display_name": "Python 3",
   "language": "python",
   "name": "python3"
  },
  "language_info": {
   "codemirror_mode": {
    "name": "ipython",
    "version": 3
   },
   "file_extension": ".py",
   "mimetype": "text/x-python",
   "name": "python",
   "nbconvert_exporter": "python",
   "pygments_lexer": "ipython3",
   "version": "3.7.1"
  }
 },
 "nbformat": 4,
 "nbformat_minor": 5
}
