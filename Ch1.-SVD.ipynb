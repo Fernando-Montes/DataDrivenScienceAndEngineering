{
 "cells": [
  {
   "cell_type": "code",
   "execution_count": 2,
   "id": "76a75f3e",
   "metadata": {},
   "outputs": [],
   "source": [
    "# Import all libraries\n",
    "import numpy as np"
   ]
  },
  {
   "cell_type": "code",
   "execution_count": 30,
   "id": "9b88e5f4",
   "metadata": {},
   "outputs": [
    {
     "data": {
      "text/plain": [
       "array([[-3.88578059e-16,  5.55111512e-17, -9.71445147e-17],\n",
       "       [-4.44089210e-16, -2.01227923e-16,  0.00000000e+00],\n",
       "       [-1.94289029e-16, -5.55111512e-17,  0.00000000e+00],\n",
       "       [-4.44089210e-16,  0.00000000e+00, -1.66533454e-16]])"
      ]
     },
     "execution_count": 30,
     "metadata": {},
     "output_type": "execute_result"
    }
   ],
   "source": [
    "a = np.random.rand(4, 3)\n",
    "U, S, V = np.linalg.svd(a, full_matrices=True) # Full SVD decomposition\n",
    "U.shape, S.shape, V.shape    # S is not a matrix and it only shows the non-zero diagonal elements!\n",
    "a - np.dot(U[:,:3]*S, V)"
   ]
  },
  {
   "cell_type": "code",
   "execution_count": null,
   "id": "5f95ce9e",
   "metadata": {},
   "outputs": [],
   "source": []
  }
 ],
 "metadata": {
  "kernelspec": {
   "display_name": "Python 3",
   "language": "python",
   "name": "python3"
  },
  "language_info": {
   "codemirror_mode": {
    "name": "ipython",
    "version": 3
   },
   "file_extension": ".py",
   "mimetype": "text/x-python",
   "name": "python",
   "nbconvert_exporter": "python",
   "pygments_lexer": "ipython3",
   "version": "3.7.1"
  }
 },
 "nbformat": 4,
 "nbformat_minor": 5
}
